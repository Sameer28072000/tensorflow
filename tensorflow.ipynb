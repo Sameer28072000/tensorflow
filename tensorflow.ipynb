{
 "cells": [
  {
   "cell_type": "markdown",
   "id": "86dde404-e1ef-48ef-bebf-68b3da809e14",
   "metadata": {},
   "source": [
    "Part 1: Theoretical Question"
   ]
  },
  {
   "cell_type": "markdown",
   "id": "3e46957d-d1cd-47cd-93ef-a39a2af1ad2d",
   "metadata": {},
   "source": [
    "Q1. What are the different data structures used in Tensorflow?. Give some examples"
   ]
  },
  {
   "cell_type": "markdown",
   "id": "95a560ea-c68f-4d03-aae8-27434b58d665",
   "metadata": {},
   "source": [
    "Ans:-Three types of data structures in Tensorflow.\n",
    "       i.Tensor\n",
    "         ii.Variables\n",
    "           iii.Sparse Tensor"
   ]
  },
  {
   "cell_type": "code",
   "execution_count": 3,
   "id": "186f23ce-d15e-4372-b1cf-f9d8ae8c1d29",
   "metadata": {},
   "outputs": [
    {
     "name": "stdout",
     "output_type": "stream",
     "text": [
      "Collecting tensorflow\n",
      "  Downloading tensorflow-2.12.0-cp310-cp310-manylinux_2_17_x86_64.manylinux2014_x86_64.whl (585.9 MB)\n",
      "\u001b[2K     \u001b[90m━━━━━━━━━━━━━━━━━━━━━━━━━━━━━━━━━━━━━━━\u001b[0m \u001b[32m585.9/585.9 MB\u001b[0m \u001b[31m2.9 MB/s\u001b[0m eta \u001b[36m0:00:00\u001b[0m00:01\u001b[0m00:01\u001b[0m\n",
      "\u001b[?25hCollecting grpcio<2.0,>=1.24.3\n",
      "  Downloading grpcio-1.54.2-cp310-cp310-manylinux_2_17_x86_64.manylinux2014_x86_64.whl (5.1 MB)\n",
      "\u001b[2K     \u001b[90m━━━━━━━━━━━━━━━━━━━━━━━━━━━━━━━━━━━━━━━━\u001b[0m \u001b[32m5.1/5.1 MB\u001b[0m \u001b[31m83.0 MB/s\u001b[0m eta \u001b[36m0:00:00\u001b[0mta \u001b[36m0:00:01\u001b[0m\n",
      "\u001b[?25hRequirement already satisfied: setuptools in /opt/conda/lib/python3.10/site-packages (from tensorflow) (65.5.1)\n",
      "Collecting google-pasta>=0.1.1\n",
      "  Downloading google_pasta-0.2.0-py3-none-any.whl (57 kB)\n",
      "\u001b[2K     \u001b[90m━━━━━━━━━━━━━━━━━━━━━━━━━━━━━━━━━━━━━━━━\u001b[0m \u001b[32m57.5/57.5 kB\u001b[0m \u001b[31m11.1 MB/s\u001b[0m eta \u001b[36m0:00:00\u001b[0m\n",
      "\u001b[?25hRequirement already satisfied: packaging in /opt/conda/lib/python3.10/site-packages (from tensorflow) (22.0)\n",
      "Requirement already satisfied: numpy<1.24,>=1.22 in /opt/conda/lib/python3.10/site-packages (from tensorflow) (1.23.5)\n",
      "Collecting wrapt<1.15,>=1.11.0\n",
      "  Downloading wrapt-1.14.1-cp310-cp310-manylinux_2_5_x86_64.manylinux1_x86_64.manylinux_2_17_x86_64.manylinux2014_x86_64.whl (77 kB)\n",
      "\u001b[2K     \u001b[90m━━━━━━━━━━━━━━━━━━━━━━━━━━━━━━━━━━━━━━━━\u001b[0m \u001b[32m77.9/77.9 kB\u001b[0m \u001b[31m17.1 MB/s\u001b[0m eta \u001b[36m0:00:00\u001b[0m\n",
      "\u001b[?25hCollecting gast<=0.4.0,>=0.2.1\n",
      "  Downloading gast-0.4.0-py3-none-any.whl (9.8 kB)\n",
      "Collecting flatbuffers>=2.0\n",
      "  Downloading flatbuffers-23.5.26-py2.py3-none-any.whl (26 kB)\n",
      "Collecting libclang>=13.0.0\n",
      "  Downloading libclang-16.0.0-py2.py3-none-manylinux2010_x86_64.whl (22.9 MB)\n",
      "\u001b[2K     \u001b[90m━━━━━━━━━━━━━━━━━━━━━━━━━━━━━━━━━━━━━━━━\u001b[0m \u001b[32m22.9/22.9 MB\u001b[0m \u001b[31m58.5 MB/s\u001b[0m eta \u001b[36m0:00:00\u001b[0m00:01\u001b[0m00:01\u001b[0m\n",
      "\u001b[?25hCollecting astunparse>=1.6.0\n",
      "  Downloading astunparse-1.6.3-py2.py3-none-any.whl (12 kB)\n",
      "Collecting tensorboard<2.13,>=2.12\n",
      "  Downloading tensorboard-2.12.3-py3-none-any.whl (5.6 MB)\n",
      "\u001b[2K     \u001b[90m━━━━━━━━━━━━━━━━━━━━━━━━━━━━━━━━━━━━━━━━\u001b[0m \u001b[32m5.6/5.6 MB\u001b[0m \u001b[31m84.2 MB/s\u001b[0m eta \u001b[36m0:00:00\u001b[0mta \u001b[36m0:00:01\u001b[0m\n",
      "\u001b[?25hCollecting tensorflow-estimator<2.13,>=2.12.0\n",
      "  Downloading tensorflow_estimator-2.12.0-py2.py3-none-any.whl (440 kB)\n",
      "\u001b[2K     \u001b[90m━━━━━━━━━━━━━━━━━━━━━━━━━━━━━━━━━━━━━━\u001b[0m \u001b[32m440.7/440.7 kB\u001b[0m \u001b[31m51.5 MB/s\u001b[0m eta \u001b[36m0:00:00\u001b[0m\n",
      "\u001b[?25hRequirement already satisfied: h5py>=2.9.0 in /opt/conda/lib/python3.10/site-packages (from tensorflow) (3.7.0)\n",
      "Collecting opt-einsum>=2.3.2\n",
      "  Downloading opt_einsum-3.3.0-py3-none-any.whl (65 kB)\n",
      "\u001b[2K     \u001b[90m━━━━━━━━━━━━━━━━━━━━━━━━━━━━━━━━━━━━━━━━\u001b[0m \u001b[32m65.5/65.5 kB\u001b[0m \u001b[31m14.0 MB/s\u001b[0m eta \u001b[36m0:00:00\u001b[0m\n",
      "\u001b[?25hRequirement already satisfied: protobuf!=4.21.0,!=4.21.1,!=4.21.2,!=4.21.3,!=4.21.4,!=4.21.5,<5.0.0dev,>=3.20.3 in /opt/conda/lib/python3.10/site-packages (from tensorflow) (4.21.11)\n",
      "Collecting keras<2.13,>=2.12.0\n",
      "  Downloading keras-2.12.0-py2.py3-none-any.whl (1.7 MB)\n",
      "\u001b[2K     \u001b[90m━━━━━━━━━━━━━━━━━━━━━━━━━━━━━━━━━━━━━━━━\u001b[0m \u001b[32m1.7/1.7 MB\u001b[0m \u001b[31m81.5 MB/s\u001b[0m eta \u001b[36m0:00:00\u001b[0m\n",
      "\u001b[?25hCollecting jax>=0.3.15\n",
      "  Downloading jax-0.4.12.tar.gz (1.3 MB)\n",
      "\u001b[2K     \u001b[90m━━━━━━━━━━━━━━━━━━━━━━━━━━━━━━━━━━━━━━━━\u001b[0m \u001b[32m1.3/1.3 MB\u001b[0m \u001b[31m63.0 MB/s\u001b[0m eta \u001b[36m0:00:00\u001b[0m\n",
      "\u001b[?25h  Installing build dependencies ... \u001b[?25ldone\n",
      "\u001b[?25h  Getting requirements to build wheel ... \u001b[?25ldone\n",
      "\u001b[?25h  Preparing metadata (pyproject.toml) ... \u001b[?25ldone\n",
      "\u001b[?25hCollecting absl-py>=1.0.0\n",
      "  Downloading absl_py-1.4.0-py3-none-any.whl (126 kB)\n",
      "\u001b[2K     \u001b[90m━━━━━━━━━━━━━━━━━━━━━━━━━━━━━━━━━━━━━━\u001b[0m \u001b[32m126.5/126.5 kB\u001b[0m \u001b[31m25.0 MB/s\u001b[0m eta \u001b[36m0:00:00\u001b[0m\n",
      "\u001b[?25hCollecting termcolor>=1.1.0\n",
      "  Downloading termcolor-2.3.0-py3-none-any.whl (6.9 kB)\n",
      "Requirement already satisfied: typing-extensions>=3.6.6 in /opt/conda/lib/python3.10/site-packages (from tensorflow) (4.4.0)\n",
      "Requirement already satisfied: six>=1.12.0 in /opt/conda/lib/python3.10/site-packages (from tensorflow) (1.16.0)\n",
      "Collecting tensorflow-io-gcs-filesystem>=0.23.1\n",
      "  Downloading tensorflow_io_gcs_filesystem-0.32.0-cp310-cp310-manylinux_2_12_x86_64.manylinux2010_x86_64.whl (2.4 MB)\n",
      "\u001b[2K     \u001b[90m━━━━━━━━━━━━━━━━━━━━━━━━━━━━━━━━━━━━━━━━\u001b[0m \u001b[32m2.4/2.4 MB\u001b[0m \u001b[31m83.1 MB/s\u001b[0m eta \u001b[36m0:00:00\u001b[0m\n",
      "\u001b[?25hRequirement already satisfied: wheel<1.0,>=0.23.0 in /opt/conda/lib/python3.10/site-packages (from astunparse>=1.6.0->tensorflow) (0.38.4)\n",
      "Collecting ml-dtypes>=0.1.0\n",
      "  Downloading ml_dtypes-0.2.0-cp310-cp310-manylinux_2_17_x86_64.manylinux2014_x86_64.whl (1.0 MB)\n",
      "\u001b[2K     \u001b[90m━━━━━━━━━━━━━━━━━━━━━━━━━━━━━━━━━━━━━━━━\u001b[0m \u001b[32m1.0/1.0 MB\u001b[0m \u001b[31m73.7 MB/s\u001b[0m eta \u001b[36m0:00:00\u001b[0m\n",
      "\u001b[?25hRequirement already satisfied: scipy>=1.7 in /opt/conda/lib/python3.10/site-packages (from jax>=0.3.15->tensorflow) (1.9.3)\n",
      "Requirement already satisfied: requests<3,>=2.21.0 in /opt/conda/lib/python3.10/site-packages (from tensorboard<2.13,>=2.12->tensorflow) (2.28.1)\n",
      "Collecting google-auth<3,>=1.6.3\n",
      "  Downloading google_auth-2.20.0-py2.py3-none-any.whl (181 kB)\n",
      "\u001b[2K     \u001b[90m━━━━━━━━━━━━━━━━━━━━━━━━━━━━━━━━━━━━━━\u001b[0m \u001b[32m181.5/181.5 kB\u001b[0m \u001b[31m30.9 MB/s\u001b[0m eta \u001b[36m0:00:00\u001b[0m\n",
      "\u001b[?25hCollecting tensorboard-data-server<0.8.0,>=0.7.0\n",
      "  Downloading tensorboard_data_server-0.7.1-py3-none-manylinux2014_x86_64.whl (6.6 MB)\n",
      "\u001b[2K     \u001b[90m━━━━━━━━━━━━━━━━━━━━━━━━━━━━━━━━━━━━━━━━\u001b[0m \u001b[32m6.6/6.6 MB\u001b[0m \u001b[31m89.6 MB/s\u001b[0m eta \u001b[36m0:00:00\u001b[0m:00:01\u001b[0m00:01\u001b[0m\n",
      "\u001b[?25hCollecting google-auth-oauthlib<1.1,>=0.5\n",
      "  Downloading google_auth_oauthlib-1.0.0-py2.py3-none-any.whl (18 kB)\n",
      "Collecting markdown>=2.6.8\n",
      "  Downloading Markdown-3.4.3-py3-none-any.whl (93 kB)\n",
      "\u001b[2K     \u001b[90m━━━━━━━━━━━━━━━━━━━━━━━━━━━━━━━━━━━━━━━━\u001b[0m \u001b[32m93.9/93.9 kB\u001b[0m \u001b[31m18.5 MB/s\u001b[0m eta \u001b[36m0:00:00\u001b[0m\n",
      "\u001b[?25hCollecting werkzeug>=1.0.1\n",
      "  Downloading Werkzeug-2.3.6-py3-none-any.whl (242 kB)\n",
      "\u001b[2K     \u001b[90m━━━━━━━━━━━━━━━━━━━━━━━━━━━━━━━━━━━━━━\u001b[0m \u001b[32m242.5/242.5 kB\u001b[0m \u001b[31m36.9 MB/s\u001b[0m eta \u001b[36m0:00:00\u001b[0m\n",
      "\u001b[?25hCollecting cachetools<6.0,>=2.0.0\n",
      "  Downloading cachetools-5.3.1-py3-none-any.whl (9.3 kB)\n",
      "Collecting pyasn1-modules>=0.2.1\n",
      "  Downloading pyasn1_modules-0.3.0-py2.py3-none-any.whl (181 kB)\n",
      "\u001b[2K     \u001b[90m━━━━━━━━━━━━━━━━━━━━━━━━━━━━━━━━━━━━━━\u001b[0m \u001b[32m181.3/181.3 kB\u001b[0m \u001b[31m32.4 MB/s\u001b[0m eta \u001b[36m0:00:00\u001b[0m\n",
      "\u001b[?25hCollecting rsa<5,>=3.1.4\n",
      "  Downloading rsa-4.9-py3-none-any.whl (34 kB)\n",
      "Requirement already satisfied: urllib3<2.0 in /opt/conda/lib/python3.10/site-packages (from google-auth<3,>=1.6.3->tensorboard<2.13,>=2.12->tensorflow) (1.26.13)\n",
      "Collecting requests-oauthlib>=0.7.0\n",
      "  Downloading requests_oauthlib-1.3.1-py2.py3-none-any.whl (23 kB)\n",
      "Requirement already satisfied: idna<4,>=2.5 in /opt/conda/lib/python3.10/site-packages (from requests<3,>=2.21.0->tensorboard<2.13,>=2.12->tensorflow) (3.4)\n",
      "Requirement already satisfied: certifi>=2017.4.17 in /opt/conda/lib/python3.10/site-packages (from requests<3,>=2.21.0->tensorboard<2.13,>=2.12->tensorflow) (2022.12.7)\n",
      "Requirement already satisfied: charset-normalizer<3,>=2 in /opt/conda/lib/python3.10/site-packages (from requests<3,>=2.21.0->tensorboard<2.13,>=2.12->tensorflow) (2.1.1)\n",
      "Requirement already satisfied: MarkupSafe>=2.1.1 in /opt/conda/lib/python3.10/site-packages (from werkzeug>=1.0.1->tensorboard<2.13,>=2.12->tensorflow) (2.1.1)\n",
      "Collecting pyasn1<0.6.0,>=0.4.6\n",
      "  Downloading pyasn1-0.5.0-py2.py3-none-any.whl (83 kB)\n",
      "\u001b[2K     \u001b[90m━━━━━━━━━━━━━━━━━━━━━━━━━━━━━━━━━━━━━━━━\u001b[0m \u001b[32m83.9/83.9 kB\u001b[0m \u001b[31m17.1 MB/s\u001b[0m eta \u001b[36m0:00:00\u001b[0m\n",
      "\u001b[?25hRequirement already satisfied: oauthlib>=3.0.0 in /opt/conda/lib/python3.10/site-packages (from requests-oauthlib>=0.7.0->google-auth-oauthlib<1.1,>=0.5->tensorboard<2.13,>=2.12->tensorflow) (3.2.2)\n",
      "Building wheels for collected packages: jax\n",
      "  Building wheel for jax (pyproject.toml) ... \u001b[?25ldone\n",
      "\u001b[?25h  Created wheel for jax: filename=jax-0.4.12-py3-none-any.whl size=1498447 sha256=fa02ad07b42aeb8c27b6ae07b8086eee23f0e1e956ce1239914ac5d9e543f9bd\n",
      "  Stored in directory: /home/jovyan/.cache/pip/wheels/e2/32/99/2f648da8966cd72055d750fe028e6b83e848cd525462584c16\n",
      "Successfully built jax\n",
      "Installing collected packages: libclang, flatbuffers, wrapt, werkzeug, termcolor, tensorflow-io-gcs-filesystem, tensorflow-estimator, tensorboard-data-server, pyasn1, opt-einsum, ml-dtypes, markdown, keras, grpcio, google-pasta, gast, cachetools, astunparse, absl-py, rsa, requests-oauthlib, pyasn1-modules, jax, google-auth, google-auth-oauthlib, tensorboard, tensorflow\n",
      "Successfully installed absl-py-1.4.0 astunparse-1.6.3 cachetools-5.3.1 flatbuffers-23.5.26 gast-0.4.0 google-auth-2.20.0 google-auth-oauthlib-1.0.0 google-pasta-0.2.0 grpcio-1.54.2 jax-0.4.12 keras-2.12.0 libclang-16.0.0 markdown-3.4.3 ml-dtypes-0.2.0 opt-einsum-3.3.0 pyasn1-0.5.0 pyasn1-modules-0.3.0 requests-oauthlib-1.3.1 rsa-4.9 tensorboard-2.12.3 tensorboard-data-server-0.7.1 tensorflow-2.12.0 tensorflow-estimator-2.12.0 tensorflow-io-gcs-filesystem-0.32.0 termcolor-2.3.0 werkzeug-2.3.6 wrapt-1.14.1\n"
     ]
    }
   ],
   "source": [
    "!pip install tensorflow"
   ]
  },
  {
   "cell_type": "code",
   "execution_count": 4,
   "id": "a67c1e49-780c-478d-b1f9-4c56622fd936",
   "metadata": {},
   "outputs": [
    {
     "name": "stderr",
     "output_type": "stream",
     "text": [
      "2023-06-21 02:36:15.312810: I tensorflow/tsl/cuda/cudart_stub.cc:28] Could not find cuda drivers on your machine, GPU will not be used.\n",
      "2023-06-21 02:36:15.382455: I tensorflow/tsl/cuda/cudart_stub.cc:28] Could not find cuda drivers on your machine, GPU will not be used.\n",
      "2023-06-21 02:36:15.383463: I tensorflow/core/platform/cpu_feature_guard.cc:182] This TensorFlow binary is optimized to use available CPU instructions in performance-critical operations.\n",
      "To enable the following instructions: AVX2 FMA, in other operations, rebuild TensorFlow with the appropriate compiler flags.\n",
      "2023-06-21 02:36:16.462497: W tensorflow/compiler/tf2tensorrt/utils/py_utils.cc:38] TF-TRT Warning: Could not find TensorRT\n"
     ]
    }
   ],
   "source": [
    "import tensorflow as tf\n",
    "Tensor=tf.constant([1,2,3,4,5,6])"
   ]
  },
  {
   "cell_type": "code",
   "execution_count": 5,
   "id": "ae59d376-3037-4865-8420-3d495bec248d",
   "metadata": {},
   "outputs": [
    {
     "data": {
      "text/plain": [
       "<tf.Tensor: shape=(6,), dtype=int32, numpy=array([1, 2, 3, 4, 5, 6], dtype=int32)>"
      ]
     },
     "execution_count": 5,
     "metadata": {},
     "output_type": "execute_result"
    }
   ],
   "source": [
    "Tensor"
   ]
  },
  {
   "cell_type": "code",
   "execution_count": 6,
   "id": "58167eac-be7d-4392-91e7-ed9b624c3981",
   "metadata": {},
   "outputs": [],
   "source": [
    "import tensorflow as tf\n",
    "variable=tf.Variable([1,2,3,4,5,6])"
   ]
  },
  {
   "cell_type": "code",
   "execution_count": 7,
   "id": "ac56fbe6-e022-4226-9ff9-09961b386504",
   "metadata": {},
   "outputs": [
    {
     "data": {
      "text/plain": [
       "<tf.Variable 'Variable:0' shape=(6,) dtype=int32, numpy=array([1, 2, 3, 4, 5, 6], dtype=int32)>"
      ]
     },
     "execution_count": 7,
     "metadata": {},
     "output_type": "execute_result"
    }
   ],
   "source": [
    "variable"
   ]
  },
  {
   "cell_type": "code",
   "execution_count": 8,
   "id": "91e40882-af0c-45f8-872f-05f10b255cf9",
   "metadata": {},
   "outputs": [],
   "source": [
    "import tensorflow as tf\n",
    "sparse_tensor = tf.sparse.SparseTensor(indices=[[0, 1], [2, 3]], values=[2, 4], dense_shape=[3, 4])"
   ]
  },
  {
   "cell_type": "code",
   "execution_count": 9,
   "id": "ed8433e9-b726-4c28-a554-11687048234d",
   "metadata": {},
   "outputs": [
    {
     "data": {
      "text/plain": [
       "SparseTensor(indices=tf.Tensor(\n",
       "[[0 1]\n",
       " [2 3]], shape=(2, 2), dtype=int64), values=tf.Tensor([2 4], shape=(2,), dtype=int32), dense_shape=tf.Tensor([3 4], shape=(2,), dtype=int64))"
      ]
     },
     "execution_count": 9,
     "metadata": {},
     "output_type": "execute_result"
    }
   ],
   "source": [
    "sparse_tensor"
   ]
  },
  {
   "cell_type": "markdown",
   "id": "7581f6c0-0f69-429d-99ce-f39597ca87fa",
   "metadata": {},
   "source": [
    "Q2. How does the TensorFlow constant differ from a TensorFlow variable? Explain with an examples"
   ]
  },
  {
   "cell_type": "code",
   "execution_count": null,
   "id": "c07a77b0-293a-45db-9b10-b45dc9178bed",
   "metadata": {},
   "outputs": [],
   "source": [
    "Ans:-TensorFlow Constant:\n",
    "        A constant is a data structure that holds a fixed value and cannot be modified after creation.\n",
    "        \n",
    "    TensorFlow Variable:\n",
    "        A variable is a mutable data structure that holds a value that can be modified during training."
   ]
  },
  {
   "cell_type": "code",
   "execution_count": 14,
   "id": "e224a62a-608b-4b32-8437-ad2c99d3d13c",
   "metadata": {},
   "outputs": [
    {
     "data": {
      "text/plain": [
       "<tf.Tensor: shape=(4,), dtype=int32, numpy=array([3, 4, 5, 6], dtype=int32)>"
      ]
     },
     "execution_count": 14,
     "metadata": {},
     "output_type": "execute_result"
    }
   ],
   "source": [
    "import tensorflow as tf\n",
    "constant=tf.constant([1,2,3,4])\n",
    "constant=constant+2\n",
    "constant"
   ]
  },
  {
   "cell_type": "code",
   "execution_count": 21,
   "id": "a07ef64a-2921-45b5-a2a7-9b78af0b16d5",
   "metadata": {},
   "outputs": [
    {
     "data": {
      "text/plain": [
       "<tf.Tensor: shape=(4,), dtype=int32, numpy=array([4, 5, 6, 7], dtype=int32)>"
      ]
     },
     "execution_count": 21,
     "metadata": {},
     "output_type": "execute_result"
    }
   ],
   "source": [
    "import tensorflow as tf\n",
    "variable=tf.Variable([1,2,3,4])\n",
    "variable=variable+3\n",
    "variable"
   ]
  },
  {
   "cell_type": "markdown",
   "id": "aa61f5d4-920b-4106-ad46-56788c497ac7",
   "metadata": {},
   "source": [
    "Q3.Describe the process of matrix addition, multiplication, and elementDwise operations in TensorFlow."
   ]
  },
  {
   "cell_type": "code",
   "execution_count": null,
   "id": "426b2ef7-9b37-41d0-ba37-8e114409d935",
   "metadata": {},
   "outputs": [],
   "source": [
    "Ans:-Matrix Addition:\n",
    "        Matrix addition involves adding corresponding elements of two matrices of the same shape.\n",
    "        \n",
    "        Matrix Multiplication:\n",
    "            Matrix multiplication involves multiplying corresponding elements of two matrices and summing the results.  "
   ]
  },
  {
   "cell_type": "code",
   "execution_count": 24,
   "id": "fe219f7f-8811-464b-8a3f-f762cf28c267",
   "metadata": {},
   "outputs": [
    {
     "data": {
      "text/plain": [
       "<tf.Tensor: shape=(2, 2), dtype=int32, numpy=\n",
       "array([[7, 8],\n",
       "       [9, 9]], dtype=int32)>"
      ]
     },
     "execution_count": 24,
     "metadata": {},
     "output_type": "execute_result"
    }
   ],
   "source": [
    "import tensorflow as tf\n",
    "matrix1 = tf.constant([[5, 2], [6, 4]])\n",
    "matrix2 = tf.constant([[2, 6], [3, 5]])\n",
    "result=tf.add(matrix1,matrix2)\n",
    "result"
   ]
  },
  {
   "cell_type": "code",
   "execution_count": 27,
   "id": "d5ecff2c-4b6c-4a13-8172-56a7aea1918a",
   "metadata": {},
   "outputs": [
    {
     "data": {
      "text/plain": [
       "<tf.Tensor: shape=(2, 2), dtype=int32, numpy=\n",
       "array([[26, 39],\n",
       "       [16, 24]], dtype=int32)>"
      ]
     },
     "execution_count": 27,
     "metadata": {},
     "output_type": "execute_result"
    }
   ],
   "source": [
    "import tensorflow as tf\n",
    "matrix1=tf.constant([[5,4],[4,2]])\n",
    "matrix2=tf.constant([[2,3],[4,6]])\n",
    "result=tf.matmul(matrix1,matrix2)\n",
    "result"
   ]
  },
  {
   "cell_type": "markdown",
   "id": "b669c36c-ee26-4d41-95d9-d3ec25fb38ac",
   "metadata": {},
   "source": [
    "Part 2: Practical Implementation\n",
    "Talk 1: Creating and Manipulating Matricek"
   ]
  },
  {
   "cell_type": "markdown",
   "id": "7dec9a9f-a613-455c-8fdd-661ef617602f",
   "metadata": {},
   "source": [
    "Q1.Create a normal matrix A with dimensions 3*3, using TensorFlows random_normal function. Display the\n",
    "values of matrix A."
   ]
  },
  {
   "cell_type": "code",
   "execution_count": 45,
   "id": "d8a3f852-6693-4eb9-9282-cf8d5de34253",
   "metadata": {},
   "outputs": [
    {
     "name": "stdout",
     "output_type": "stream",
     "text": [
      "tf.Tensor(\n",
      "[[10.124386  11.937936   8.499355 ]\n",
      " [ 3.9279404 11.490804   9.536015 ]\n",
      " [ 9.314747  12.86846    8.300713 ]], shape=(3, 3), dtype=float32)\n",
      "tf.Tensor(\n",
      "[[5 4]\n",
      " [4 2]], shape=(2, 2), dtype=int32)\n"
     ]
    }
   ],
   "source": [
    "import tensorflow as tf\n",
    "tf.random.normal(shape=(3,3),mean=10,stddev=5)\n",
    "ran=tf.random.normal(shape=(3,3),mean=10,stddev=5)\n",
    "print(ran)\n",
    "print(matrix1)"
   ]
  },
  {
   "cell_type": "markdown",
   "id": "d636ff3f-4e7f-400c-baa0-97515456e62a",
   "metadata": {},
   "source": [
    "Q2Create a Gaussian matrix B with dimensions x, using TensorFlows truncated_normal function. Display\n",
    "the values of matrix B"
   ]
  },
  {
   "cell_type": "code",
   "execution_count": 90,
   "id": "e8c38e7b-af5f-42cb-b110-a1e78fcd4555",
   "metadata": {},
   "outputs": [
    {
     "name": "stdout",
     "output_type": "stream",
     "text": [
      "tf.Tensor(\n",
      "[[-0.61902046  0.3112488   0.90987027 -0.07019015]\n",
      " [ 0.12523243  0.88540345  0.37935388  0.5791472 ]\n",
      " [-0.26269272  0.01906765  0.760083   -0.5485437 ]\n",
      " [-1.4248438   0.5241498   1.7427286   0.34226114]], shape=(4, 4), dtype=float32)\n"
     ]
    }
   ],
   "source": [
    "import tensorflow as tf\n",
    "x = 4\n",
    "B = tf.random.truncated_normal(shape=(x, x))\n",
    "print(B)"
   ]
  },
  {
   "cell_type": "markdown",
   "id": "e843c589-14d1-4bb9-ac0d-6b6549985eb1",
   "metadata": {},
   "source": [
    "Q3.Create a matrix C with dimensions 2x2, where the values are drawn from a normal distribution with a\n",
    "mean of 2 and a standard deviation of 0.x, using TensorFlows random.normal function. Display the values\n",
    "of matrix Cc"
   ]
  },
  {
   "cell_type": "code",
   "execution_count": 70,
   "id": "04ac562b-88bc-4ecb-8452-eb0c53a1ab67",
   "metadata": {},
   "outputs": [
    {
     "name": "stdout",
     "output_type": "stream",
     "text": [
      "tf.Tensor(\n",
      "[[2.8233745 2.2504487]\n",
      " [3.206153  1.8291464]], shape=(2, 2), dtype=float32)\n",
      "tf.Tensor(\n",
      "[[5 4]\n",
      " [4 2]], shape=(2, 2), dtype=int32)\n"
     ]
    }
   ],
   "source": [
    "import tensorflow as tf\n",
    "tf.random.normal(shape=(2,2),mean=3,stddev=0.5)\n",
    "ran=tf.random.normal(shape=(2,2),mean=3,stddev=0.5)\n",
    "print(ran)\n",
    "print(matrix1)"
   ]
  },
  {
   "cell_type": "markdown",
   "id": "6ebe4431-dc09-4763-b738-60279833a86a",
   "metadata": {},
   "source": [
    "Q4.Perform matrix addition between matrix A and matrix B, and store the result in matrix D"
   ]
  },
  {
   "cell_type": "code",
   "execution_count": 75,
   "id": "0f90b509-0579-4edd-8d41-b016b794be9c",
   "metadata": {},
   "outputs": [
    {
     "data": {
      "text/plain": [
       "<tf.Tensor: shape=(2, 2), dtype=int32, numpy=\n",
       "array([[7, 8],\n",
       "       [9, 9]], dtype=int32)>"
      ]
     },
     "execution_count": 75,
     "metadata": {},
     "output_type": "execute_result"
    }
   ],
   "source": [
    "import tensorflow as tf\n",
    "matrix1 = tf.constant([[5, 2], [6, 4]])\n",
    "matrix2 = tf.constant([[2, 6], [3, 5]])\n",
    "D=tf.add(matrix1,matrix2)\n",
    "D"
   ]
  },
  {
   "cell_type": "markdown",
   "id": "e7e55c90-5b08-4fe9-a550-f698f06f07db",
   "metadata": {},
   "source": [
    "Q5.Perform matrix multiplication between matrix C and matrix D, and store the result in matrix E."
   ]
  },
  {
   "cell_type": "code",
   "execution_count": 74,
   "id": "fef18ffd-e553-4461-b9f2-55388288d24a",
   "metadata": {},
   "outputs": [
    {
     "data": {
      "text/plain": [
       "<tf.Tensor: shape=(2, 2), dtype=int32, numpy=\n",
       "array([[26, 39],\n",
       "       [16, 24]], dtype=int32)>"
      ]
     },
     "execution_count": 74,
     "metadata": {},
     "output_type": "execute_result"
    }
   ],
   "source": [
    "import tensorflow as tf\n",
    "matrix1=tf.constant([[5,4],[4,2]])\n",
    "matrix2=tf.constant([[2,3],[4,6]])\n",
    "E=tf.matmul(matrix1,matrix2)\n",
    "E"
   ]
  },
  {
   "cell_type": "markdown",
   "id": "950d0145-7b66-434e-a5c6-bece3ff61d64",
   "metadata": {},
   "source": [
    "Talk 2: Per;orming Additional Matrix Operationk"
   ]
  },
  {
   "cell_type": "markdown",
   "id": "058f2e0f-f9de-4436-a9b3-d356ad0f2adc",
   "metadata": {},
   "source": [
    "Q1.Create a matrix F with dimensions 2x2, initialized with random values using TensorFlow's random_uniform\n",
    "functionc"
   ]
  },
  {
   "cell_type": "code",
   "execution_count": 83,
   "id": "c0212147-53a3-4097-b133-b44dbaa3a194",
   "metadata": {},
   "outputs": [
    {
     "data": {
      "text/plain": [
       "<tf.Tensor: shape=(2, 2), dtype=float32, numpy=\n",
       "array([[19.17876  , 17.352917 ],\n",
       "       [14.7010145, 14.061657 ]], dtype=float32)>"
      ]
     },
     "execution_count": 83,
     "metadata": {},
     "output_type": "execute_result"
    }
   ],
   "source": [
    "F=tf.random.uniform(shape=(2,2),minval=10,maxval=25)\n",
    "F"
   ]
  },
  {
   "cell_type": "markdown",
   "id": "c4b80bb2-47e2-45b4-8a21-31f7bc7a13e8",
   "metadata": {},
   "source": [
    "Q2.Calculate the transpose of matrix F and store the result in matrix Gc"
   ]
  },
  {
   "cell_type": "code",
   "execution_count": 86,
   "id": "781e7dd7-e188-4204-9135-39227ae5b508",
   "metadata": {},
   "outputs": [
    {
     "name": "stdout",
     "output_type": "stream",
     "text": [
      "tf.Tensor(\n",
      "[[19.17876   14.7010145]\n",
      " [17.352917  14.061657 ]], shape=(2, 2), dtype=float32)\n"
     ]
    }
   ],
   "source": [
    "import tensorflow as tf\n",
    "F = tf.constant([[19.17876  , 17.352917 ],\n",
    "       [14.7010145, 14.061657 ]])\n",
    "G = tf.transpose(F)\n",
    "print(G)"
   ]
  },
  {
   "cell_type": "markdown",
   "id": "e4301e6e-7ef6-42a8-b9fa-79c390a8e197",
   "metadata": {},
   "source": [
    "Q3.Calculate the elementDwise exponential of matrix F and store the result in matrix Hc"
   ]
  },
  {
   "cell_type": "code",
   "execution_count": 89,
   "id": "735d4be1-c50b-406c-baf7-a1d742ea2f9c",
   "metadata": {},
   "outputs": [
    {
     "name": "stdout",
     "output_type": "stream",
     "text": [
      "tf.Tensor(\n",
      "[[2.1341742e+08 3.4377632e+07]\n",
      " [2.4242058e+06 1.2790868e+06]], shape=(2, 2), dtype=float32)\n"
     ]
    }
   ],
   "source": [
    "import tensorflow as tf\n",
    "F = tf.constant([[19.17876  , 17.352917 ],\n",
    "       [14.7010145, 14.061657 ]])\n",
    "H = tf.exp(F)\n",
    "print(H)"
   ]
  },
  {
   "cell_type": "markdown",
   "id": "6c18591d-4516-4091-92e0-48a934c506b2",
   "metadata": {},
   "source": [
    "Q4.Create a matrix I by concatenating matrix F and matrix G horizontally"
   ]
  },
  {
   "cell_type": "code",
   "execution_count": 98,
   "id": "05a610ef-6658-40f2-af71-fd8a331ccc76",
   "metadata": {},
   "outputs": [
    {
     "name": "stdout",
     "output_type": "stream",
     "text": [
      "tf.Tensor(\n",
      "[[19.17876   17.352917  19.17876   14.7010145]\n",
      " [14.7010145 14.061657  17.352917  14.061657 ]], shape=(2, 4), dtype=float32)\n"
     ]
    }
   ],
   "source": [
    "import tensorflow as tf\n",
    "\n",
    "F = tf.constant([[19.17876  , 17.352917 ],\n",
    "                [14.7010145, 14.061657 ]])\n",
    "G = tf.constant([[19.17876  ,14.7010145],\n",
    "                [17.352917 ,14.061657 ]])\n",
    "I = tf.concat([F, G], axis=1)\n",
    "print(I)"
   ]
  },
  {
   "cell_type": "markdown",
   "id": "8c88ccc7-e0b6-4884-b58f-5f23d275ad4c",
   "metadata": {},
   "source": [
    "Q5.Create a matrix J by concatenating matrix F and matrix H vertically."
   ]
  },
  {
   "cell_type": "code",
   "execution_count": 105,
   "id": "1ce9b01c-d9ab-46c8-b5c9-7a82602bdc90",
   "metadata": {},
   "outputs": [
    {
     "name": "stdout",
     "output_type": "stream",
     "text": [
      "tf.Tensor(\n",
      "[[1.91787605e+01 1.73529167e+01]\n",
      " [1.47010145e+01 1.40616570e+01]\n",
      " [2.13417424e+08 3.43776320e+07]\n",
      " [2.42420575e+06 1.27908675e+06]], shape=(4, 2), dtype=float32)\n"
     ]
    }
   ],
   "source": [
    "import tensorflow as tf\n",
    "\n",
    "F = tf.constant([[19.17876  , 17.352917 ],\n",
    "                [14.7010145, 14.061657 ]])\n",
    "H = tf.constant([[2.1341742e+08 ,3.4377632e+07],\n",
    "                [2.4242058e+06, 1.2790868e+06]])\n",
    "I = tf.concat([F, H], axis=0)\n",
    "print(I)"
   ]
  },
  {
   "cell_type": "code",
   "execution_count": null,
   "id": "b9c39a8b-08f2-4048-a9a0-e09d6516f57d",
   "metadata": {},
   "outputs": [],
   "source": []
  }
 ],
 "metadata": {
  "kernelspec": {
   "display_name": "Python 3 (ipykernel)",
   "language": "python",
   "name": "python3"
  },
  "language_info": {
   "codemirror_mode": {
    "name": "ipython",
    "version": 3
   },
   "file_extension": ".py",
   "mimetype": "text/x-python",
   "name": "python",
   "nbconvert_exporter": "python",
   "pygments_lexer": "ipython3",
   "version": "3.10.8"
  }
 },
 "nbformat": 4,
 "nbformat_minor": 5
}
